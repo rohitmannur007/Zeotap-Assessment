{
 "cells": [
  {
   "cell_type": "markdown",
   "id": "3f80a4b8-b5c0-4516-a5fe-11ef259c7ce1",
   "metadata": {},
   "source": [
    "# 🏦 AI-Powered Fraud Detection\n",
    "\n",
    "**Objective:** Detect fraudulent transactions using advanced ML, graph-based features, and explainable AI, while estimating real-world financial impact.  \n",
    "This notebook demonstrates a full workflow: data preprocessing → feature engineering → model building → explainability → financial analysis → visualization → optional deployment."
   ]
  },
  {
   "cell_type": "markdown",
   "id": "347666c0-1211-4758-b758-768aaeef27ac",
   "metadata": {},
   "source": [
    "# 0️⃣ Install Required Packages"
   ]
  },
  {
   "cell_type": "code",
   "execution_count": 18,
   "id": "3441fb4a-e6ae-497b-842a-ecc6cc942d96",
   "metadata": {},
   "outputs": [
    {
     "name": "stdout",
     "output_type": "stream",
     "text": [
      "Requirement already satisfied: pandas in /opt/anaconda3/lib/python3.13/site-packages (2.2.3)\n",
      "Requirement already satisfied: numpy in /opt/anaconda3/lib/python3.13/site-packages (2.2.5)\n",
      "Requirement already satisfied: matplotlib in /opt/anaconda3/lib/python3.13/site-packages (3.10.0)\n",
      "Requirement already satisfied: seaborn in /opt/anaconda3/lib/python3.13/site-packages (0.13.2)\n",
      "Requirement already satisfied: plotly in /opt/anaconda3/lib/python3.13/site-packages (5.24.1)\n",
      "Requirement already satisfied: scikit-learn in /opt/anaconda3/lib/python3.13/site-packages (1.6.1)\n",
      "Requirement already satisfied: xgboost in /opt/anaconda3/lib/python3.13/site-packages (3.0.5)\n",
      "Requirement already satisfied: shap in /opt/anaconda3/lib/python3.13/site-packages (0.48.0)\n",
      "Requirement already satisfied: networkx in /opt/anaconda3/lib/python3.13/site-packages (3.4.2)\n",
      "Requirement already satisfied: umap-learn in /opt/anaconda3/lib/python3.13/site-packages (0.5.9.post2)\n",
      "Requirement already satisfied: faker in /opt/anaconda3/lib/python3.13/site-packages (37.6.0)\n",
      "Requirement already satisfied: fastapi in /opt/anaconda3/lib/python3.13/site-packages (0.115.12)\n",
      "Requirement already satisfied: uvicorn in /opt/anaconda3/lib/python3.13/site-packages (0.34.2)\n",
      "Requirement already satisfied: joblib in /opt/anaconda3/lib/python3.13/site-packages (1.5.0)\n",
      "Requirement already satisfied: python-dateutil>=2.8.2 in /opt/anaconda3/lib/python3.13/site-packages (from pandas) (2.9.0.post0)\n",
      "Requirement already satisfied: pytz>=2020.1 in /opt/anaconda3/lib/python3.13/site-packages (from pandas) (2025.2)\n",
      "Requirement already satisfied: tzdata>=2022.7 in /opt/anaconda3/lib/python3.13/site-packages (from pandas) (2025.2)\n",
      "Requirement already satisfied: contourpy>=1.0.1 in /opt/anaconda3/lib/python3.13/site-packages (from matplotlib) (1.3.1)\n",
      "Requirement already satisfied: cycler>=0.10 in /opt/anaconda3/lib/python3.13/site-packages (from matplotlib) (0.11.0)\n",
      "Requirement already satisfied: fonttools>=4.22.0 in /opt/anaconda3/lib/python3.13/site-packages (from matplotlib) (4.55.3)\n",
      "Requirement already satisfied: kiwisolver>=1.3.1 in /opt/anaconda3/lib/python3.13/site-packages (from matplotlib) (1.4.8)\n",
      "Requirement already satisfied: packaging>=20.0 in /opt/anaconda3/lib/python3.13/site-packages (from matplotlib) (24.2)\n",
      "Requirement already satisfied: pillow>=8 in /opt/anaconda3/lib/python3.13/site-packages (from matplotlib) (11.2.1)\n",
      "Requirement already satisfied: pyparsing>=2.3.1 in /opt/anaconda3/lib/python3.13/site-packages (from matplotlib) (3.2.0)\n",
      "Requirement already satisfied: tenacity>=6.2.0 in /opt/anaconda3/lib/python3.13/site-packages (from plotly) (9.1.2)\n",
      "Requirement already satisfied: scipy>=1.6.0 in /opt/anaconda3/lib/python3.13/site-packages (from scikit-learn) (1.15.3)\n",
      "Requirement already satisfied: threadpoolctl>=3.1.0 in /opt/anaconda3/lib/python3.13/site-packages (from scikit-learn) (3.6.0)\n",
      "Requirement already satisfied: tqdm>=4.27.0 in /opt/anaconda3/lib/python3.13/site-packages (from shap) (4.67.1)\n",
      "Requirement already satisfied: slicer==0.0.8 in /opt/anaconda3/lib/python3.13/site-packages (from shap) (0.0.8)\n",
      "Requirement already satisfied: numba>=0.54 in /opt/anaconda3/lib/python3.13/site-packages (from shap) (0.61.2)\n",
      "Requirement already satisfied: cloudpickle in /opt/anaconda3/lib/python3.13/site-packages (from shap) (3.0.0)\n",
      "Requirement already satisfied: typing-extensions in /opt/anaconda3/lib/python3.13/site-packages (from shap) (4.13.2)\n",
      "Requirement already satisfied: pynndescent>=0.5 in /opt/anaconda3/lib/python3.13/site-packages (from umap-learn) (0.5.13)\n",
      "Requirement already satisfied: starlette<0.47.0,>=0.40.0 in /opt/anaconda3/lib/python3.13/site-packages (from fastapi) (0.46.2)\n",
      "Requirement already satisfied: pydantic!=1.8,!=1.8.1,!=2.0.0,!=2.0.1,!=2.1.0,<3.0.0,>=1.7.4 in /opt/anaconda3/lib/python3.13/site-packages (from fastapi) (2.11.4)\n",
      "Requirement already satisfied: annotated-types>=0.6.0 in /opt/anaconda3/lib/python3.13/site-packages (from pydantic!=1.8,!=1.8.1,!=2.0.0,!=2.0.1,!=2.1.0,<3.0.0,>=1.7.4->fastapi) (0.7.0)\n",
      "Requirement already satisfied: pydantic-core==2.33.2 in /opt/anaconda3/lib/python3.13/site-packages (from pydantic!=1.8,!=1.8.1,!=2.0.0,!=2.0.1,!=2.1.0,<3.0.0,>=1.7.4->fastapi) (2.33.2)\n",
      "Requirement already satisfied: typing-inspection>=0.4.0 in /opt/anaconda3/lib/python3.13/site-packages (from pydantic!=1.8,!=1.8.1,!=2.0.0,!=2.0.1,!=2.1.0,<3.0.0,>=1.7.4->fastapi) (0.4.0)\n",
      "Requirement already satisfied: anyio<5,>=3.6.2 in /opt/anaconda3/lib/python3.13/site-packages (from starlette<0.47.0,>=0.40.0->fastapi) (4.9.0)\n",
      "Requirement already satisfied: idna>=2.8 in /opt/anaconda3/lib/python3.13/site-packages (from anyio<5,>=3.6.2->starlette<0.47.0,>=0.40.0->fastapi) (3.10)\n",
      "Requirement already satisfied: sniffio>=1.1 in /opt/anaconda3/lib/python3.13/site-packages (from anyio<5,>=3.6.2->starlette<0.47.0,>=0.40.0->fastapi) (1.3.1)\n",
      "Requirement already satisfied: click>=7.0 in /opt/anaconda3/lib/python3.13/site-packages (from uvicorn) (8.1.8)\n",
      "Requirement already satisfied: h11>=0.8 in /opt/anaconda3/lib/python3.13/site-packages (from uvicorn) (0.16.0)\n",
      "Requirement already satisfied: llvmlite<0.45,>=0.44.0dev0 in /opt/anaconda3/lib/python3.13/site-packages (from numba>=0.54->shap) (0.44.0)\n",
      "Requirement already satisfied: six>=1.5 in /opt/anaconda3/lib/python3.13/site-packages (from python-dateutil>=2.8.2->pandas) (1.17.0)\n"
     ]
    }
   ],
   "source": [
    "!pip install pandas numpy matplotlib seaborn plotly scikit-learn xgboost shap networkx umap-learn faker fastapi uvicorn joblib"
   ]
  },
  {
   "cell_type": "markdown",
   "id": "50f96d55-3ed4-4944-9aeb-4eb86c97a6aa",
   "metadata": {},
   "source": [
    "## 1️⃣ Import Libraries"
   ]
  },
  {
   "cell_type": "code",
   "execution_count": 19,
   "id": "bc68bc6f-2d95-4f7a-8dbf-de638142f373",
   "metadata": {},
   "outputs": [],
   "source": [
    "import pandas as pd\n",
    "import numpy as np\n",
    "import matplotlib.pyplot as plt\n",
    "import seaborn as sns\n",
    "import plotly.express as px\n",
    "\n",
    "# ML\n",
    "from sklearn.model_selection import train_test_split, GridSearchCV\n",
    "from sklearn.preprocessing import StandardScaler, LabelEncoder\n",
    "from sklearn.ensemble import RandomForestClassifier, StackingClassifier\n",
    "from sklearn.linear_model import LogisticRegression\n",
    "from xgboost import XGBClassifier\n",
    "from sklearn.metrics import classification_report, confusion_matrix\n",
    "\n",
    "# Explainable AI\n",
    "import shap\n",
    "\n",
    "# Graph analytics\n",
    "import networkx as nx\n",
    "\n",
    "# Dimensionality reduction\n",
    "from umap import UMAP\n",
    "\n",
    "# Optional: simulate real-time data\n",
    "from faker import Faker\n",
    "import joblib"
   ]
  },
  {
   "cell_type": "markdown",
   "id": "4aec0438-a442-479b-b526-0eceae8c7a9f",
   "metadata": {},
   "source": [
    "## 2️⃣ Load & Explore Data"
   ]
  },
  {
   "cell_type": "code",
   "execution_count": 20,
   "id": "2dab822e-29ff-48b3-b708-8161b3073c3b",
   "metadata": {},
   "outputs": [
    {
     "name": "stdout",
     "output_type": "stream",
     "text": [
      "<class 'pandas.core.frame.DataFrame'>\n",
      "RangeIndex: 11142 entries, 0 to 11141\n",
      "Data columns (total 10 columns):\n",
      " #   Column          Non-Null Count  Dtype  \n",
      "---  ------          --------------  -----  \n",
      " 0   step            11142 non-null  int64  \n",
      " 1   type            11142 non-null  object \n",
      " 2   amount          11142 non-null  float64\n",
      " 3   nameOrig        11142 non-null  object \n",
      " 4   oldbalanceOrg   11142 non-null  float64\n",
      " 5   newbalanceOrig  11142 non-null  float64\n",
      " 6   nameDest        11142 non-null  object \n",
      " 7   oldbalanceDest  11142 non-null  float64\n",
      " 8   newbalanceDest  11142 non-null  float64\n",
      " 9   isFraud         11142 non-null  int64  \n",
      "dtypes: float64(5), int64(2), object(3)\n",
      "memory usage: 870.6+ KB\n"
     ]
    },
    {
     "data": {
      "text/plain": [
       "isFraud\n",
       "0    10000\n",
       "1     1142\n",
       "Name: count, dtype: int64"
      ]
     },
     "execution_count": 20,
     "metadata": {},
     "output_type": "execute_result"
    }
   ],
   "source": [
    "df = pd.read_csv(\"Fraud_Analysis_Dataset.csv\")\n",
    "df.head()\n",
    "df.info()\n",
    "df.describe()\n",
    "df['isFraud'].value_counts()"
   ]
  },
  {
   "cell_type": "markdown",
   "id": "ed439cde-56db-4e3d-a899-53bc0d37034f",
   "metadata": {},
   "source": [
    "**Observations:**\n",
    "- Dataset contains transactions with features like `type`, `amount`, `oldbalanceOrg`, `newbalanceOrig`, `step`, `nameOrig`, `nameDest`.\n",
    "- Target variable: `isFraud` (0 = legitimate, 1 = fraud)."
   ]
  },
  {
   "cell_type": "markdown",
   "id": "0b92ee0c-a25b-49e8-9954-985a476a1255",
   "metadata": {},
   "source": [
    "## 3️⃣ Feature Engineering"
   ]
  },
  {
   "cell_type": "markdown",
   "id": "c637c59d-453b-4d6b-b6ab-2e695b81039b",
   "metadata": {},
   "source": [
    "### 3a. Temporal & Domain-Specific Features"
   ]
  },
  {
   "cell_type": "code",
   "execution_count": 21,
   "id": "fa9498ca-ab77-470d-a5c7-e6623fbdfa37",
   "metadata": {},
   "outputs": [],
   "source": [
    "# Temporal\n",
    "df['hour'] = df['step'] % 24\n",
    "df['day_of_week'] = (df['step'] // 24) % 7\n",
    "df['is_weekend'] = (df['day_of_week'] >= 5).astype(int)\n",
    "\n",
    "# Fraud velocity\n",
    "df['transaction_velocity'] = df.groupby('nameOrig')['step'].transform('count')\n",
    "\n",
    "# Balance discrepancy\n",
    "df['balance_discrepancy'] = df['oldbalanceOrg'] - df['newbalanceOrig'] - df['amount']"
   ]
  },
  {
   "cell_type": "markdown",
   "id": "e0bd6b30-7f1b-47ab-b671-33e41ab71baa",
   "metadata": {},
   "source": [
    "### 3b. Graph-Based Features"
   ]
  },
  {
   "cell_type": "code",
   "execution_count": 22,
   "id": "414a8992-1bab-4a7a-a458-fcbe9c7975de",
   "metadata": {},
   "outputs": [],
   "source": [
    "G = nx.DiGraph()\n",
    "for _, row in df.iterrows():\n",
    "    G.add_edge(row['nameOrig'], row['nameDest'], amount=row['amount'])\n",
    "\n",
    "df['orig_degree'] = df['nameOrig'].map(dict(G.degree()))\n",
    "df['dest_degree'] = df['nameDest'].map(dict(G.degree()))"
   ]
  },
  {
   "cell_type": "markdown",
   "id": "03459d0e-d903-445a-9dae-c50cea4eb7ca",
   "metadata": {},
   "source": [
    "> **Features Added:**\n",
    "> - Temporal patterns (hour, day_of_week, weekend)\n",
    "> - Transaction velocity\n",
    "> - Balance discrepancies\n",
    "> - Graph-based features (degree centrality)"
   ]
  },
  {
   "cell_type": "markdown",
   "id": "da795426-bd0c-4d1b-871f-dad42e1fca35",
   "metadata": {},
   "source": [
    "### 3c. Encode Categorical Features"
   ]
  },
  {
   "cell_type": "code",
   "execution_count": 23,
   "id": "1598d0b8-c34a-4cc0-8f94-ef0a5bb8935e",
   "metadata": {},
   "outputs": [],
   "source": [
    "le = LabelEncoder()\n",
    "df['type'] = le.fit_transform(df['type'])"
   ]
  },
  {
   "cell_type": "markdown",
   "id": "f84eedfe-5077-49fd-a3df-8e5e41b34748",
   "metadata": {},
   "source": [
    "## 4️⃣ Prepare Data for Modeling"
   ]
  },
  {
   "cell_type": "code",
   "execution_count": 24,
   "id": "1039acb7-126f-4512-a36e-6bc15ac4c7aa",
   "metadata": {},
   "outputs": [],
   "source": [
    "# Features & target\n",
    "X = df.drop(['isFraud', 'nameOrig', 'nameDest'], axis=1)\n",
    "y = df['isFraud']\n",
    "\n",
    "# Chronological split to simulate concept drift\n",
    "X_train, X_test, y_train, y_test = train_test_split(X, y, test_size=0.2, shuffle=False)\n",
    "\n",
    "# Scaling\n",
    "scaler = StandardScaler()\n",
    "X_train = scaler.fit_transform(X_train)\n",
    "X_test = scaler.transform(X_test)"
   ]
  },
  {
   "cell_type": "markdown",
   "id": "47454695-bbc8-41a3-99a3-975799fbd067",
   "metadata": {},
   "source": [
    "## 5️⃣ Model Building"
   ]
  },
  {
   "cell_type": "code",
   "execution_count": 25,
   "id": "52c04cc9-a207-48be-b967-7432d3ffb07d",
   "metadata": {},
   "outputs": [
    {
     "name": "stdout",
     "output_type": "stream",
     "text": [
      "              precision    recall  f1-score   support\n",
      "\n",
      "           0       1.00      1.00      1.00      2229\n",
      "           1       0.00      0.00      0.00         0\n",
      "\n",
      "    accuracy                           1.00      2229\n",
      "   macro avg       0.50      0.50      0.50      2229\n",
      "weighted avg       1.00      1.00      1.00      2229\n",
      "\n"
     ]
    },
    {
     "name": "stderr",
     "output_type": "stream",
     "text": [
      "/opt/anaconda3/envs/lavda/lib/python3.11/site-packages/sklearn/metrics/_classification.py:1731: UndefinedMetricWarning:\n",
      "\n",
      "Recall is ill-defined and being set to 0.0 in labels with no true samples. Use `zero_division` parameter to control this behavior.\n",
      "\n",
      "/opt/anaconda3/envs/lavda/lib/python3.11/site-packages/sklearn/metrics/_classification.py:1731: UndefinedMetricWarning:\n",
      "\n",
      "Recall is ill-defined and being set to 0.0 in labels with no true samples. Use `zero_division` parameter to control this behavior.\n",
      "\n",
      "/opt/anaconda3/envs/lavda/lib/python3.11/site-packages/sklearn/metrics/_classification.py:1731: UndefinedMetricWarning:\n",
      "\n",
      "Recall is ill-defined and being set to 0.0 in labels with no true samples. Use `zero_division` parameter to control this behavior.\n",
      "\n"
     ]
    }
   ],
   "source": [
    "estimators = [('lr', LogisticRegression()), ('xgb', XGBClassifier(eval_metric='logloss'))]\n",
    "stack = StackingClassifier(estimators=estimators, final_estimator=RandomForestClassifier())\n",
    "stack.fit(X_train, y_train)\n",
    "\n",
    "y_pred = stack.predict(X_test)\n",
    "print(classification_report(y_test, y_pred))"
   ]
  },
  {
   "cell_type": "markdown",
   "id": "336e3ede-da23-4153-8967-a5a94743eccc",
   "metadata": {},
   "source": [
    "> **Model:** Stacked ensemble of Logistic Regression + XGBoost with Random Forest meta-learner."
   ]
  },
  {
   "cell_type": "markdown",
   "id": "58a3a3d8-847f-4610-bd33-a2d4f5b40a59",
   "metadata": {},
   "source": [
    "## 6️⃣ Explainable AI (SHAP)"
   ]
  },
  {
   "cell_type": "code",
   "execution_count": 26,
   "id": "6fd9d328-ac28-40fc-9024-b1d669231a0b",
   "metadata": {},
   "outputs": [
    {
     "name": "stderr",
     "output_type": "stream",
     "text": [
      "PermutationExplainer explainer: 2230it [03:53,  9.16it/s]                       \n",
      "/var/folders/zv/bp9ddvy90gb26t2tckrp75zr0000gn/T/ipykernel_77994/1569218191.py:11: FutureWarning:\n",
      "\n",
      "The NumPy global RNG was seeded by calling `np.random.seed`. In a future version this function will no longer use the global RNG. Pass `rng` explicitly to opt-in to the new behaviour and silence this warning.\n",
      "\n",
      "/opt/anaconda3/envs/lavda/lib/python3.11/site-packages/shap/plots/_beeswarm.py:723: FutureWarning:\n",
      "\n",
      "The NumPy global RNG was seeded by calling `np.random.seed`. In a future version this function will no longer use the global RNG. Pass `rng` explicitly to opt-in to the new behaviour and silence this warning.\n",
      "\n",
      "/opt/anaconda3/envs/lavda/lib/python3.11/site-packages/shap/plots/_beeswarm.py:743: FutureWarning:\n",
      "\n",
      "The NumPy global RNG was seeded by calling `np.random.seed`. In a future version this function will no longer use the global RNG. Pass `rng` explicitly to opt-in to the new behaviour and silence this warning.\n",
      "\n"
     ]
    },
    {
     "data": {
      "image/png": "[encoded data removed]",
      "text/plain": [
       "<Figure size 1150x660 with 2 Axes>"
      ]
     },
     "metadata": {},
     "output_type": "display_data"
    }
   ],
   "source": [
    "# Option 1: Use the predict method of the model explicitly\n",
    "explainer = shap.Explainer(stack.predict, X_train)\n",
    "shap_values = explainer(X_test)\n",
    "\n",
    "# OR Option 2: Use TreeExplainer if your final estimator is tree-based (like RandomForest)\n",
    "# This works better with the RandomForestClassifier that's your final estimator\n",
    "explainer = shap.TreeExplainer(stack.final_estimator_)\n",
    "shap_values = explainer.shap_values(X_test)\n",
    "\n",
    "# Global feature importance\n",
    "shap.summary_plot(shap_values, X_test)"
   ]
  },
  {
   "cell_type": "markdown",
   "id": "14b416cd-d6e0-48f9-8f2b-61f2092ee49e",
   "metadata": {},
   "source": [
    "> **SHAP Analysis:** Highlights most influential features for fraud prediction, increasing model trust and interpretability."
   ]
  },
  {
   "cell_type": "markdown",
   "id": "c52dc93a-03bb-4e67-9e65-2f1b7f0a91b3",
   "metadata": {},
   "source": [
    "## 7️⃣ Financial Impact Analysis"
   ]
  },
  {
   "cell_type": "code",
   "execution_count": 27,
   "id": "165d1a45-6006-4fe9-ae6b-74c802e614c8",
   "metadata": {},
   "outputs": [
    {
     "name": "stdout",
     "output_type": "stream",
     "text": [
      "Mean Net Impact: $-348.75 ± 127.22\n"
     ]
    }
   ],
   "source": [
    "save_per_fraud = 1000      # hypothetical saving per fraud detected\n",
    "cost_per_false_alarm = 50\n",
    "loss_per_undetected = 5000\n",
    "\n",
    "# Monte Carlo Simulation for uncertainty\n",
    "impacts = []\n",
    "for _ in range(1000):\n",
    "    idx = np.random.choice(len(y_test), len(y_test), replace=True)\n",
    "    y_s, pred_s = y_test.iloc[idx], y_pred[idx]\n",
    "    TP = ((y_s==1) & (pred_s==1)).sum()\n",
    "    FP = ((y_s==0) & (pred_s==1)).sum()\n",
    "    FN = ((y_s==1) & (pred_s==0)).sum()\n",
    "    impacts.append(TP*save_per_fraud - FP*cost_per_false_alarm - FN*loss_per_undetected)\n",
    "\n",
    "print(f\"Mean Net Impact: ${np.mean(impacts):,.2f} ± {np.std(impacts):,.2f}\")"
   ]
  },
  {
   "cell_type": "markdown",
   "id": "673518fe-192c-4555-9b9b-bb52f4179b4d",
   "metadata": {},
   "source": [
    "> **Financial Analysis:** Monte Carlo simulation estimates net savings and accounts for variability in predictions."
   ]
  },
  {
   "cell_type": "markdown",
   "id": "7337dcb9-d503-44b5-bc06-3353dffbe63a",
   "metadata": {},
   "source": [
    "## 8️⃣ Visualization & Clustering"
   ]
  },
  {
   "cell_type": "markdown",
   "id": "0515c5f2-375e-4bbc-ae5e-0813d005004f",
   "metadata": {},
   "source": [
    "### 8a. UMAP for Clustering"
   ]
  },
  {
   "cell_type": "code",
   "execution_count": 28,
   "id": "b1b55f66-47c6-47b0-b239-689d92110d0c",
   "metadata": {},
   "outputs": [
    {
     "data": {
      "image/png": "[encoded data removed]",
      "text/plain": [
       "<Figure size 640x480 with 1 Axes>"
      ]
     },
     "metadata": {},
     "output_type": "display_data"
    }
   ],
   "source": [
    "umap_model = UMAP(n_components=2)\n",
    "embedding = umap_model.fit_transform(X)\n",
    "plt.scatter(embedding[:,0], embedding[:,1], c=y, cmap='Spectral', alpha=0.5)\n",
    "plt.title('UMAP Clustering of Transactions')\n",
    "plt.show()"
   ]
  },
  {
   "cell_type": "markdown",
   "id": "a571e428-f256-4346-a25c-57ca5ad2ea9d",
   "metadata": {},
   "source": [
    "### 8b. Interactive Plotly Impact Distribution"
   ]
  },
  {
   "cell_type": "code",
   "execution_count": 29,
   "id": "cd5c6472-2d6d-47ce-9e64-6a2f12c34cd4",
   "metadata": {},
   "outputs": [
    {
     "data": {
      "application/vnd.plotly.v1+json": {
       "config": {
        "plotlyServerURL": "https://plot.ly"
       },
       "data": [
        {
         "bingroup": "x",
         "hovertemplate": "NetImpact=%{x}<br>count=%{y}<extra></extra>",
         "legendgroup": "",
         "marker": {
          "color": "#636efa",
          "pattern": {
           "shape": ""
          }
         },
         "name": "",
         "nbinsx": 50,
         "orientation": "v",
         "showlegend": false,
         "type": "histogram",
         "x": {
          "bdata": "cP7U/qL+ov7U/tT+OP+i/qj9Pv7a/T7+1P5q/zj/ov7a/Qz+Bv84/zj/Bv9E/aL+cP5q/2r/Pv4G/wb/Pv6c/6L+cP4G/3D+1P7U/mr/ov6i/gb/Bv84/3D+ov6i/nD+Pv44/9T+1P5w/gz+Bv84/z7+cP44/zj/DP4G/z7+DP44/wb/Pv4+/j7+OP8M/mr/cP6i/jj/Bv+i/tr9Pv6i/qL+1P5w/mr/1P6i/nb9ov4+/jj/DP6i/tr9OP/U/qj9ov4G/9T+ov4G/zj/ov5q/z7+1P6i/tr9Pv7U/tT+Pv5w/qL+1P5w/mr/1P4G/6L+DP5w/qL+ov4+/qL+av+i/gb/nP/U/tT+ov7U/qL+av+i/tT+Pv5E/dT+DP7U/tr9Pv4G/wb/Pv6i/tT+Bv9w/qL+ov7U/qj91P4+/j7+1P5w/qj91P4G/z7+ov6i/jj/Bv/U/j7+Pv7U/gz+nP+i/j7+DP4G/wb/av9w/nD+av+i/qL+OP8G/9T+Bv8G/9T+cP6o/aL+OP+i/tT+Pv4+/tT+av8M/gz+ov44/9T+ov6i/qL+1P44/9T+Bv9w/jj/cP4G/9T+Bv9q/wb/ov7a/aL+cP4G/wz+Bv84/wb/cP4M/gb/cP4M/j7+2v0G/wz+cP5q/wb/DP7U/tT+cP4G/3D+cP7a/aL+DP4+/tT+ov4G/5z/cP6c/z7+1P5q/2r/Pv4+/gb/nP9w/jj/DP5w/tT+OP/U/jj/Ev04/6L+Pv44/z7+1P4G/wb/2v3U/nD+DP4G/z7+DP5E/XD+OP+i/nD+2v04/wb/Bv+u/HD+1P6i/nD+cP4+/gb/cP6i/gb/OP8M/qL+DP44/3D+ov6o/Qb/ov4G/3b9ov6i/qL+OP/U/nD+OP8G/9r9ov4+/tT+2v0M/qj92v0G/9T+Bv84/5z/Bv9q/3D+Bv+o/T7+cP4G/wz+av/U/nD+ov7U/nD+DP4M/tr92v3U/qj9OP8G/9T+ov44/2r/ov7U/pz/1P5w/jj/cP4+/tT+av9w/qL+Pv4+/j7+Bv8G/zj/1P6i/nD+1P4S/XD+cP44/3D+OP8G/wb/Pv7U/tT+DP7U/gb/cP5w/gb/Pv4M/qL+DP7U/gb/Bv8G/2r/ov4+/qL+dv3a/XD+1P5w/mr/cP52/aL+cP5w/qj9cP4G/6L+ov4G/wb/DP6o/XD+Bv9w/gb/Bv8G/wz+av/U/j7+cP44/6L+Pv7U/tr9OP9w/j7+Bv/U/gb/2v2i/nD+Pv6i/tr9Bv8+/nD+1P44/3D+1P5w/gb/av8+/gb/cP5E/aL+cP4M/jj/Bv84/6L+cP4M/qj9DP4+/j7+Pv4G/9T+av9q/3D+1P52/dT+RP0+/gz+Pv7O/6L+Bv8G/6j9Bv8+/qL+2v1w/gz+1P6i/nD+Pv7U/gb/ov7U/mr/cP7U/qL+DP4M/gb/nP/U/gz+OP+i/nD+ov5q/3b9nP84/6L+1P6i/mr/Bv+i/tT+Pv6i/gb/nP8S/XD+av8G/3D+Pv7U/hL9Pv5w/qL+ov7U/gb/nP9w/qL+dv0+/gz+1P44/9r9DP5q/6L+ov5w/qL+Bv8G/6L+Pv7U/tr91P5q/9T+1P6i/qL+OP8G/wb/1P4G/6L+dv3U/qL+Bv84/wb/ov7U/j7+Pv6i/qL+2v1w/nD+2v1w/jj/Pv4G/2r/Bv84/wb/cP7U/qL+DP44/z7+OP/U/tT+qP0+/j7+cP6c/zj/ov4+/tr9Bv8G/3D+1P7U/mr/OP8M/pz/2v3a/dr9Pv6i/jj/1P4M/tr9Bv+c/6j9ov52/dT+Pv7U/s7/Bv8G/9T+1P5q/6L+Pv4M/jj/OP9w/gb/Bv/U/tT+1P6i/tr91P4M/mr/1P4+/gb/qP3U/gb/1P7U/tT+ov4G/z7+Bv8+/nD+Bv8+/qL+Bv/a/XD+qP3a/Wr/ov6i/tT+ov7a/XD+2v1q/wb/Bv+c/zj/1P5w/nD+DP6c/6j9av+i/tT+DP6c/6L+qP04/wb/ov6c/wz+ov4+/j7+cP44/3D+av+i/qL+ov6i/qL+ov4+/nD+1P7U/pz/Pv4G/3D+OP/U/tT+ov6i/qL+RP12/XD+Pv4+/tT+cP6c/wb/Bv8+/nD+cP5w/tT+qP1w/nD+OP/U/tT+DP4G/9T+2v3U/qL+DP4G/6L+DP4+/j7+qP0+/jj/Bv/U/tT+ov5w/nD+1P52/Qb/OP8G/6L+ov7U/tT+cP4+/qj9OP8+/mr/Pv4G/wb/cP4G/wb/ov44/6L+Bv9q/3b9ov5w/s7/ov6i/gb/OP/U/j7+Pv7a/dT+1P4+/j7+cP6i/nD+1P7U/jj/Bv9w/gb/Bv8+/jj/Bv8+/tT+cP4M/tT+DP4+/qL+DP5q/6L+2v0M/nD+1P4G/zj/Bv9q/zj/Bv+i/tT+nP8G/9T+qP0G/9T+ov6i/gz+cP6i/nD+Pv5w/tT+OP/U/jj/ov7a/Qb/Bv8G/zj/cP6i/qL+ov4G/wb/DP4+/gb/Pv4+/tT+Bv+i/gb/2v0+/hL9av/U/gz+ov4G/9T+av+i/nD+cP6i/nD+OP9w/nD+cP6i/gb/Pv6i/nD+cP4+/j7+1P6i/gz+1P4G/9T+ov5w/jj/av9w/j7+OP8+/tr9DP6i/qL+Pv44/9T+ov5w/j7+OP/U/nD+cP52/Qb/ov7a/Wr/Pv4G/6L+OP8=",
          "dtype": "i2"
         },
         "xaxis": "x",
         "yaxis": "y"
        }
       ],
       "layout": {
        "barmode": "relative",
        "legend": {
         "tracegroupgap": 0
        },
        "template": {
         "data": {
          "bar": [
           {
            "error_x": {
             "color": "#2a3f5f"
            },
            "error_y": {
             "color": "#2a3f5f"
            },
            "marker": {
             "line": {
              "color": "#E5ECF6",
              "width": 0.5
             },
             "pattern": {
              "fillmode": "overlay",
              "size": 10,
              "solidity": 0.2
             }
            },
            "type": "bar"
           }
          ],
          "barpolar": [
           {
            "marker": {
             "line": {
              "color": "#E5ECF6",
              "width": 0.5
             },
             "pattern": {
              "fillmode": "overlay",
              "size": 10,
              "solidity": 0.2
             }
            },
            "type": "barpolar"
           }
          ],
          "carpet": [
           {
            "aaxis": {
             "endlinecolor": "#2a3f5f",
             "gridcolor": "white",
             "linecolor": "white",
             "minorgridcolor": "white",
             "startlinecolor": "#2a3f5f"
            },
            "baxis": {
             "endlinecolor": "#2a3f5f",
             "gridcolor": "white",
             "linecolor": "white",
             "minorgridcolor": "white",
             "startlinecolor": "#2a3f5f"
            },
            "type": "carpet"
           }
          ],
          "choropleth": [
           {
            "colorbar": {
             "outlinewidth": 0,
             "ticks": ""
            },
            "type": "choropleth"
           }
          ],
          "contour": [
           {
            "colorbar": {
             "outlinewidth": 0,
             "ticks": ""
            },
            "colorscale": [
             [
              0,
              "#0d0887"
             ],
             [
              0.1111111111111111,
              "#46039f"
             ],
             [
              0.2222222222222222,
              "#7201a8"
             ],
             [
              0.3333333333333333,
              "#9c179e"
             ],
             [
              0.4444444444444444,
              "#bd3786"
             ],
             [
              0.5555555555555556,
              "#d8576b"
             ],
             [
              0.6666666666666666,
              "#ed7953"
             ],
             [
              0.7777777777777778,
              "#fb9f3a"
             ],
             [
              0.8888888888888888,
              "#fdca26"
             ],
             [
              1,
              "#f0f921"
             ]
            ],
            "type": "contour"
           }
          ],
          "contourcarpet": [
           {
            "colorbar": {
             "outlinewidth": 0,
             "ticks": ""
            },
            "type": "contourcarpet"
           }
          ],
          "heatmap": [
           {
            "colorbar": {
             "outlinewidth": 0,
             "ticks": ""
            },
            "colorscale": [
             [
              0,
              "#0d0887"
             ],
             [
              0.1111111111111111,
              "#46039f"
             ],
             [
              0.2222222222222222,
              "#7201a8"
             ],
             [
              0.3333333333333333,
              "#9c179e"
             ],
             [
              0.4444444444444444,
              "#bd3786"
             ],
             [
              0.5555555555555556,
              "#d8576b"
             ],
             [
              0.6666666666666666,
              "#ed7953"
             ],
             [
              0.7777777777777778,
              "#fb9f3a"
             ],
             [
              0.8888888888888888,
              "#fdca26"
             ],
             [
              1,
              "#f0f921"
             ]
            ],
            "type": "heatmap"
           }
          ],
          "histogram": [
           {
            "marker": {
             "pattern": {
              "fillmode": "overlay",
              "size": 10,
              "solidity": 0.2
             }
            },
            "type": "histogram"
           }
          ],
          "histogram2d": [
           {
            "colorbar": {
             "outlinewidth": 0,
             "ticks": ""
            },
            "colorscale": [
             [
              0,
              "#0d0887"
             ],
             [
              0.1111111111111111,
              "#46039f"
             ],
             [
              0.2222222222222222,
              "#7201a8"
             ],
             [
              0.3333333333333333,
              "#9c179e"
             ],
             [
              0.4444444444444444,
              "#bd3786"
             ],
             [
              0.5555555555555556,
              "#d8576b"
             ],
             [
              0.6666666666666666,
              "#ed7953"
             ],
             [
              0.7777777777777778,
              "#fb9f3a"
             ],
             [
              0.8888888888888888,
              "#fdca26"
             ],
             [
              1,
              "#f0f921"
             ]
            ],
            "type": "histogram2d"
           }
          ],
          "histogram2dcontour": [
           {
            "colorbar": {
             "outlinewidth": 0,
             "ticks": ""
            },
            "colorscale": [
             [
              0,
              "#0d0887"
             ],
             [
              0.1111111111111111,
              "#46039f"
             ],
             [
              0.2222222222222222,
              "#7201a8"
             ],
             [
              0.3333333333333333,
              "#9c179e"
             ],
             [
              0.4444444444444444,
              "#bd3786"
             ],
             [
              0.5555555555555556,
              "#d8576b"
             ],
             [
              0.6666666666666666,
              "#ed7953"
             ],
             [
              0.7777777777777778,
              "#fb9f3a"
             ],
             [
              0.8888888888888888,
              "#fdca26"
             ],
             [
              1,
              "#f0f921"
             ]
            ],
            "type": "histogram2dcontour"
           }
          ],
          "mesh3d": [
           {
            "colorbar": {
             "outlinewidth": 0,
             "ticks": ""
            },
            "type": "mesh3d"
           }
          ],
          "parcoords": [
           {
            "line": {
             "colorbar": {
              "outlinewidth": 0,
              "ticks": ""
             }
            },
            "type": "parcoords"
           }
          ],
          "pie": [
           {
            "automargin": true,
            "type": "pie"
           }
          ],
          "scatter": [
           {
            "fillpattern": {
             "fillmode": "overlay",
             "size": 10,
             "solidity": 0.2
            },
            "type": "scatter"
           }
          ],
          "scatter3d": [
           {
            "line": {
             "colorbar": {
              "outlinewidth": 0,
              "ticks": ""
             }
            },
            "marker": {
             "colorbar": {
              "outlinewidth": 0,
              "ticks": ""
             }
            },
            "type": "scatter3d"
           }
          ],
          "scattercarpet": [
           {
            "marker": {
             "colorbar": {
              "outlinewidth": 0,
              "ticks": ""
             }
            },
            "type": "scattercarpet"
           }
          ],
          "scattergeo": [
           {
            "marker": {
             "colorbar": {
              "outlinewidth": 0,
              "ticks": ""
             }
            },
            "type": "scattergeo"
           }
          ],
          "scattergl": [
           {
            "marker": {
             "colorbar": {
              "outlinewidth": 0,
              "ticks": ""
             }
            },
            "type": "scattergl"
           }
          ],
          "scattermap": [
           {
            "marker": {
             "colorbar": {
              "outlinewidth": 0,
              "ticks": ""
             }
            },
            "type": "scattermap"
           }
          ],
          "scattermapbox": [
           {
            "marker": {
             "colorbar": {
              "outlinewidth": 0,
              "ticks": ""
             }
            },
            "type": "scattermapbox"
           }
          ],
          "scatterpolar": [
           {
            "marker": {
             "colorbar": {
              "outlinewidth": 0,
              "ticks": ""
             }
            },
            "type": "scatterpolar"
           }
          ],
          "scatterpolargl": [
           {
            "marker": {
             "colorbar": {
              "outlinewidth": 0,
              "ticks": ""
             }
            },
            "type": "scatterpolargl"
           }
          ],
          "scatterternary": [
           {
            "marker": {
             "colorbar": {
              "outlinewidth": 0,
              "ticks": ""
             }
            },
            "type": "scatterternary"
           }
          ],
          "surface": [
           {
            "colorbar": {
             "outlinewidth": 0,
             "ticks": ""
            },
            "colorscale": [
             [
              0,
              "#0d0887"
             ],
             [
              0.1111111111111111,
              "#46039f"
             ],
             [
              0.2222222222222222,
              "#7201a8"
             ],
             [
              0.3333333333333333,
              "#9c179e"
             ],
             [
              0.4444444444444444,
              "#bd3786"
             ],
             [
              0.5555555555555556,
              "#d8576b"
             ],
             [
              0.6666666666666666,
              "#ed7953"
             ],
             [
              0.7777777777777778,
              "#fb9f3a"
             ],
             [
              0.8888888888888888,
              "#fdca26"
             ],
             [
              1,
              "#f0f921"
             ]
            ],
            "type": "surface"
           }
          ],
          "table": [
           {
            "cells": {
             "fill": {
              "color": "#EBF0F8"
             },
             "line": {
              "color": "white"
             }
            },
            "header": {
             "fill": {
              "color": "#C8D4E3"
             },
             "line": {
              "color": "white"
             }
            },
            "type": "table"
           }
          ]
         },
         "layout": {
          "annotationdefaults": {
           "arrowcolor": "#2a3f5f",
           "arrowhead": 0,
           "arrowwidth": 1
          },
          "autotypenumbers": "strict",
          "coloraxis": {
           "colorbar": {
            "outlinewidth": 0,
            "ticks": ""
           }
          },
          "colorscale": {
           "diverging": [
            [
             0,
             "#8e0152"
            ],
            [
             0.1,
             "#c51b7d"
            ],
            [
             0.2,
             "#de77ae"
            ],
            [
             0.3,
             "#f1b6da"
            ],
            [
             0.4,
             "#fde0ef"
            ],
            [
             0.5,
             "#f7f7f7"
            ],
            [
             0.6,
             "#e6f5d0"
            ],
            [
             0.7,
             "#b8e186"
            ],
            [
             0.8,
             "#7fbc41"
            ],
            [
             0.9,
             "#4d9221"
            ],
            [
             1,
             "#276419"
            ]
           ],
           "sequential": [
            [
             0,
             "#0d0887"
            ],
            [
             0.1111111111111111,
             "#46039f"
            ],
            [
             0.2222222222222222,
             "#7201a8"
            ],
            [
             0.3333333333333333,
             "#9c179e"
            ],
            [
             0.4444444444444444,
             "#bd3786"
            ],
            [
             0.5555555555555556,
             "#d8576b"
            ],
            [
             0.6666666666666666,
             "#ed7953"
            ],
            [
             0.7777777777777778,
             "#fb9f3a"
            ],
            [
             0.8888888888888888,
             "#fdca26"
            ],
            [
             1,
             "#f0f921"
            ]
           ],
           "sequentialminus": [
            [
             0,
             "#0d0887"
            ],
            [
             0.1111111111111111,
             "#46039f"
            ],
            [
             0.2222222222222222,
             "#7201a8"
            ],
            [
             0.3333333333333333,
             "#9c179e"
            ],
            [
             0.4444444444444444,
             "#bd3786"
            ],
            [
             0.5555555555555556,
             "#d8576b"
            ],
            [
             0.6666666666666666,
             "#ed7953"
            ],
            [
             0.7777777777777778,
             "#fb9f3a"
            ],
            [
             0.8888888888888888,
             "#fdca26"
            ],
            [
             1,
             "#f0f921"
            ]
           ]
          },
          "colorway": [
           "#636efa",
           "#EF553B",
           "#00cc96",
           "#ab63fa",
           "#FFA15A",
           "#19d3f3",
           "#FF6692",
           "#B6E880",
           "#FF97FF",
           "#FECB52"
          ],
          "font": {
           "color": "#2a3f5f"
          },
          "geo": {
           "bgcolor": "white",
           "lakecolor": "white",
           "landcolor": "#E5ECF6",
           "showlakes": true,
           "showland": true,
           "subunitcolor": "white"
          },
          "hoverlabel": {
           "align": "left"
          },
          "hovermode": "closest",
          "mapbox": {
           "style": "light"
          },
          "paper_bgcolor": "white",
          "plot_bgcolor": "#E5ECF6",
          "polar": {
           "angularaxis": {
            "gridcolor": "white",
            "linecolor": "white",
            "ticks": ""
           },
           "bgcolor": "#E5ECF6",
           "radialaxis": {
            "gridcolor": "white",
            "linecolor": "white",
            "ticks": ""
           }
          },
          "scene": {
           "xaxis": {
            "backgroundcolor": "#E5ECF6",
            "gridcolor": "white",
            "gridwidth": 2,
            "linecolor": "white",
            "showbackground": true,
            "ticks": "",
            "zerolinecolor": "white"
           },
           "yaxis": {
            "backgroundcolor": "#E5ECF6",
            "gridcolor": "white",
            "gridwidth": 2,
            "linecolor": "white",
            "showbackground": true,
            "ticks": "",
            "zerolinecolor": "white"
           },
           "zaxis": {
            "backgroundcolor": "#E5ECF6",
            "gridcolor": "white",
            "gridwidth": 2,
            "linecolor": "white",
            "showbackground": true,
            "ticks": "",
            "zerolinecolor": "white"
           }
          },
          "shapedefaults": {
           "line": {
            "color": "#2a3f5f"
           }
          },
          "ternary": {
           "aaxis": {
            "gridcolor": "white",
            "linecolor": "white",
            "ticks": ""
           },
           "baxis": {
            "gridcolor": "white",
            "linecolor": "white",
            "ticks": ""
           },
           "bgcolor": "#E5ECF6",
           "caxis": {
            "gridcolor": "white",
            "linecolor": "white",
            "ticks": ""
           }
          },
          "title": {
           "x": 0.05
          },
          "xaxis": {
           "automargin": true,
           "gridcolor": "white",
           "linecolor": "white",
           "ticks": "",
           "title": {
            "standoff": 15
           },
           "zerolinecolor": "white",
           "zerolinewidth": 2
          },
          "yaxis": {
           "automargin": true,
           "gridcolor": "white",
           "linecolor": "white",
           "ticks": "",
           "title": {
            "standoff": 15
           },
           "zerolinecolor": "white",
           "zerolinewidth": 2
          }
         }
        },
        "title": {
         "text": "Distribution of Net Impact"
        },
        "xaxis": {
         "anchor": "y",
         "domain": [
          0,
          1
         ],
         "title": {
          "text": "NetImpact"
         }
        },
        "yaxis": {
         "anchor": "x",
         "domain": [
          0,
          1
         ],
         "title": {
          "text": "count"
         }
        }
       }
      },
      "image/png": "[encoded data removed]"
     },
     "metadata": {},
     "output_type": "display_data"
    }
   ],
   "source": [
    "impact_df = pd.DataFrame({'Simulation': range(1000), 'NetImpact': impacts})\n",
    "fig = px.histogram(impact_df, x='NetImpact', nbins=50, title='Distribution of Net Impact')\n",
    "fig.show()"
   ]
  },
  {
   "cell_type": "markdown",
   "id": "461484e1-d9a4-4a6a-8a01-f807b180625e",
   "metadata": {},
   "source": [
    "### 9️⃣ Optional Deployment (FastAPI)"
   ]
  },
  {
   "cell_type": "code",
   "execution_count": 30,
   "id": "0d426d7f-338b-43e0-bb67-eeec6b3b35a7",
   "metadata": {},
   "outputs": [],
   "source": [
    "# Save model\n",
    "joblib.dump(stack, 'best_fraud_model.pkl')\n",
    "\n",
    "# FastAPI snippet\n",
    "from fastapi import FastAPI\n",
    "\n",
    "app = FastAPI()\n",
    "model = joblib.load('best_fraud_model.pkl')\n",
    "\n",
    "@app.post(\"/predict\")\n",
    "def predict(transaction: dict):\n",
    "    df_trans = pd.DataFrame([transaction])\n",
    "    pred = model.predict(df_trans)\n",
    "    return {\"fraud_probability\": int(pred[0])}"
   ]
  },
  {
   "cell_type": "markdown",
   "id": "d0f0d355-3597-4064-8726-ba7a052b8278",
   "metadata": {},
   "source": [
    "> **Deployment Ready:** REST API endpoint to serve real-time predictions for new transactions."
   ]
  },
  {
   "cell_type": "code",
   "execution_count": null,
   "id": "2e91ff35-4813-4403-8beb-019c88b74e6f",
   "metadata": {},
   "outputs": [],
   "source": []
  }
 ],
 "metadata": {
  "kernelspec": {
   "display_name": "Python (lavda)",
   "language": "python",
   "name": "lavda"
  },
  "language_info": {
   "codemirror_mode": {
    "name": "ipython",
    "version": 3
   },
   "file_extension": ".py",
   "mimetype": "text/x-python",
   "name": "python",
   "nbconvert_exporter": "python",
   "pygments_lexer": "ipython3",
   "version": "3.11.13"
  }
 },
 "nbformat": 4,
 "nbformat_minor": 5
}
